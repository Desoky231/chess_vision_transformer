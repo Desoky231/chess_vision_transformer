{
 "cells": [
  {
   "cell_type": "code",
   "execution_count": 1,
   "metadata": {},
   "outputs": [],
   "source": [
    "import os\n",
    "import json\n",
    "import base64\n",
    "\n",
    "# Libraries for handling images\n",
    "from PIL import Image\n",
    "from io import BytesIO"
   ]
  },
  {
   "cell_type": "code",
   "execution_count": 4,
   "metadata": {},
   "outputs": [],
   "source": [
    "# Directory where NDJSON files are stored\n",
    "INPUT_DIR = r\"dataset\"\n",
    "# Output directories\n",
    "OUTPUT_JSON_DIR = \"output/json\"\n",
    "OUTPUT_IMAGE_DIR = \"output/images\"\n",
    "\n",
    "# Ensure output directories exist\n",
    "os.makedirs(OUTPUT_JSON_DIR, exist_ok=True)\n",
    "os.makedirs(OUTPUT_IMAGE_DIR, exist_ok=True)\n"
   ]
  },
  {
   "cell_type": "code",
   "execution_count": 5,
   "metadata": {},
   "outputs": [],
   "source": [
    "# Counter for incrementing IDs\n",
    "game_id = 0\n",
    "\n",
    "# Process all `.ndjson` files in the directory\n",
    "for filename in os.listdir(INPUT_DIR):\n",
    "    if filename.endswith(\".ndjson\"):\n",
    "        file_path = os.path.join(INPUT_DIR, filename)\n",
    "\n",
    "        with open(file_path, \"r\", encoding=\"utf-8\") as file:\n",
    "            for line in file:\n",
    "                try:\n",
    "                    data = json.loads(line.strip())\n",
    "\n",
    "                    # Extract image data\n",
    "                    image_data = data[\"State\"].pop(\"Image state\", None)  # Remove image from structure\n",
    "                    if image_data:\n",
    "                        image_bytes = base64.b64decode(image_data)\n",
    "                        image = Image.open(BytesIO(image_bytes))\n",
    "                        image_path = os.path.join(OUTPUT_IMAGE_DIR, f\"{game_id}.png\")\n",
    "                        image.save(image_path, \"PNG\")\n",
    "\n",
    "                    # Prepare the JSON metadata\n",
    "                    output_json = {\n",
    "                        \"id\": game_id,\n",
    "                        \"State\": {\n",
    "                            \"Fen notation\": data[\"State\"][\"Fen notation\"],\n",
    "                            \"Pgn notation\": data[\"State\"][\"Pgn notation\"]\n",
    "                        },\n",
    "                        \"player_to_play\": data[\"player_to_play\"],\n",
    "                        \"Best_5_moves\": data[\"Best_5_moves\"]\n",
    "                    }\n",
    "\n",
    "                    # Save JSON metadata\n",
    "                    json_path = os.path.join(OUTPUT_JSON_DIR, f\"{game_id}.json\")\n",
    "                    with open(json_path, \"w\", encoding=\"utf-8\") as json_file:\n",
    "                        json.dump(output_json, json_file, indent=4)\n",
    "\n",
    "                    game_id += 1  # Increment ID for next game\n",
    "\n",
    "                except Exception as e:\n",
    "                    print(f\"Error processing entry in {filename}: {e}\")"
   ]
  }
 ],
 "metadata": {
  "kernelspec": {
   "display_name": "python_chess",
   "language": "python",
   "name": "python3"
  },
  "language_info": {
   "codemirror_mode": {
    "name": "ipython",
    "version": 3
   },
   "file_extension": ".py",
   "mimetype": "text/x-python",
   "name": "python",
   "nbconvert_exporter": "python",
   "pygments_lexer": "ipython3",
   "version": "3.9.20"
  }
 },
 "nbformat": 4,
 "nbformat_minor": 2
}
